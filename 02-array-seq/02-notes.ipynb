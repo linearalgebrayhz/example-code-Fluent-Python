{
 "cells": [
  {
   "cell_type": "markdown",
   "metadata": {},
   "source": [
    "# Ch2 序列构成的数组\n",
    "\n",
    "## 2.1 内置序列类型概览\n",
    "\n",
    "容器序列\n",
    "- `list`, `tuple`, `collections.deque` 可存放不同类型的数据\n",
    "\n",
    "扁平序列\n",
    "- `str`, `bytes`, `bytearray`, `memoryview`, `array.array` 只能容纳一种类型\n",
    "\n",
    "容器序列存放的是引用，而扁平序列存放的是值。扁平序列是一段连续的内存空间。\n",
    "\n",
    "可变序列\n",
    "- `list`, `bytearray`, `array.array`, `collections.deque`, `memoryview`\n",
    "\n",
    "不可变序列\n",
    "- `tuple`, `str`, `bytes`\n",
    "\n",
    "可变序列从不可变序列处继承了一些方法\n",
    "\n",
    "继承树如下:\n",
    "\n",
    "`Container`类\n",
    "- `__contains__`\n",
    "\n",
    "`Iterable`类\n",
    "- `__iter__`\n",
    "\n",
    "`Sized`类\n",
    "- `__len__`\n",
    "\n",
    "`Sequence`类 extends `Container`, `Iterable`, `Sized`\n",
    "- `__getitem__`\n",
    "- `__contains__`\n",
    "- `__iter__`\n",
    "- `__reversed__`\n",
    "- `index`\n",
    "- `count`\n",
    "\n",
    "`MutableSequence`类 extends `Sequence`\n",
    "- `__setitem__`\n",
    "- `__delitem__`\n",
    "- `insert`\n",
    "- `append`\n",
    "- `reverse`\n",
    "- `extend`\n",
    "- `pop`\n",
    "- `remove`\n",
    "- `__iadd__`\n",
    "\n",
    "\n",
    "## 2.2 列表推导和生成器表达式\n",
    "通常的原则是，只用列表推导来创建新的列表，并且尽量保持简短。超过了两行的话，就要考虑是不是应该用for循环重写。"
   ]
  },
  {
   "cell_type": "code",
   "execution_count": 2,
   "metadata": {},
   "outputs": [
    {
     "name": "stdout",
     "output_type": "stream",
     "text": [
      "[162, 163, 165, 8364, 164]\n"
     ]
    }
   ],
   "source": [
    "symbols = '$¢£¥€¤'\n",
    "beyond_ascii = [ord(s) for s in symbols if ord(s) > 127]\n",
    "print(beyond_ascii)"
   ]
  },
  {
   "cell_type": "code",
   "execution_count": 4,
   "metadata": {},
   "outputs": [
    {
     "name": "stdout",
     "output_type": "stream",
     "text": [
      "[162, 163, 165, 8364, 164]\n"
     ]
    }
   ],
   "source": [
    "# or using map/filter\n",
    "beyond_ascii = list(filter(lambda c : c > 127, map(ord, symbols)))\n",
    "print(beyond_ascii)"
   ]
  },
  {
   "cell_type": "markdown",
   "metadata": {},
   "source": [
    "Comparison of speed can be found in *listcomp_speed.py*\n",
    "\n",
    "### 2.2.3 cartesian product"
   ]
  },
  {
   "cell_type": "code",
   "execution_count": 5,
   "metadata": {},
   "outputs": [
    {
     "name": "stdout",
     "output_type": "stream",
     "text": [
      "[('black', 'S'), ('black', 'M'), ('black', 'L'), ('white', 'S'), ('white', 'M'), ('white', 'L')]\n"
     ]
    }
   ],
   "source": [
    "colors = ['black', 'white'] \n",
    "sizes = ['S', 'M', 'L'] \n",
    "tshirts = [(color, size) for color in colors for size in sizes]\n",
    "print(tshirts)"
   ]
  },
  {
   "cell_type": "markdown",
   "metadata": {},
   "source": [
    "### 2.2.4 生成器表达式\n",
    "生成器表达式是懒惰的，只有在需要的时候才会生成值,这样有助于节省内存。生成器表达式的语法和列表推导很像，只不过把中括号换成了圆括号。"
   ]
  },
  {
   "cell_type": "code",
   "execution_count": 6,
   "metadata": {},
   "outputs": [
    {
     "data": {
      "text/plain": [
       "(36, 162, 163, 165, 8364, 164)"
      ]
     },
     "execution_count": 6,
     "metadata": {},
     "output_type": "execute_result"
    }
   ],
   "source": [
    "tuple(ord(symbol) for symbol in symbols)"
   ]
  },
  {
   "cell_type": "code",
   "execution_count": 7,
   "metadata": {},
   "outputs": [
    {
     "name": "stdout",
     "output_type": "stream",
     "text": [
      "array('I', [36, 162, 163, 165, 8364, 164])\n"
     ]
    }
   ],
   "source": [
    "import array\n",
    "arr = array.array('I', (ord(symbol) for symbol in symbols))\n",
    "print(arr)\n"
   ]
  },
  {
   "cell_type": "markdown",
   "metadata": {},
   "source": [
    "1. 如果生成器表达式是一个函数调用过程中的唯一参数，那么不需要额外的括号\n",
    "2. array的构造方法需要两个参数，第一个指定了数组中数字的储存方式，第二个是可迭代对象"
   ]
  },
  {
   "cell_type": "code",
   "execution_count": 8,
   "metadata": {},
   "outputs": [
    {
     "name": "stdout",
     "output_type": "stream",
     "text": [
      "black S\n",
      "black M\n",
      "black L\n",
      "white S\n",
      "white M\n",
      "white L\n"
     ]
    }
   ],
   "source": [
    "colors = ['black','white']\n",
    "sizes = ['S','M','L']\n",
    "for tshirt in ('%s %s' % (c,s) for c in colors for s in sizes):\n",
    "    print(tshirt)"
   ]
  },
  {
   "cell_type": "markdown",
   "metadata": {},
   "source": [
    "# 2.3 元组不仅仅是不可变的列表"
   ]
  }
 ],
 "metadata": {
  "kernelspec": {
   "display_name": "base",
   "language": "python",
   "name": "python3"
  },
  "language_info": {
   "codemirror_mode": {
    "name": "ipython",
    "version": 3
   },
   "file_extension": ".py",
   "mimetype": "text/x-python",
   "name": "python",
   "nbconvert_exporter": "python",
   "pygments_lexer": "ipython3",
   "version": "3.10.9"
  }
 },
 "nbformat": 4,
 "nbformat_minor": 2
}
