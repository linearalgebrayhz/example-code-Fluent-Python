{
 "cells": [
  {
   "cell_type": "markdown",
   "metadata": {},
   "source": [
    "# Ch2 序列构成的数组\n",
    "\n",
    "## 2.1 内置序列类型概览\n",
    "\n",
    "容器序列\n",
    "- `list`, `tuple`, `collections.deque` 可存放不同类型的数据\n",
    "\n",
    "扁平序列\n",
    "- `str`, `bytes`, `bytearray`, `memoryview`, `array.array` 只能容纳一种类型\n",
    "\n",
    "容器序列存放的是引用，而扁平序列存放的是值。扁平序列是一段连续的内存空间。\n",
    "\n",
    "可变序列\n",
    "- `list`, `bytearray`, `array.array`, `collections.deque`, `memoryview`\n",
    "\n",
    "不可变序列\n",
    "- `tuple`, `str`, `bytes`\n",
    "\n",
    "可变序列从不可变序列处继承了一些方法\n",
    "\n",
    "继承树如下:\n",
    "\n",
    "`Container`类\n",
    "- `__contains__`\n",
    "\n",
    "`Iterable`类\n",
    "- `__iter__`\n",
    "\n",
    "`Sized`类\n",
    "- `__len__`\n",
    "\n",
    "`Sequence`类 extends `Container`, `Iterable`, `Sized`\n",
    "- `__getitem__`\n",
    "- `__contains__`\n",
    "- `__iter__`\n",
    "- `__reversed__`\n",
    "- `index`\n",
    "- `count`\n",
    "\n",
    "`MutableSequence`类 extends `Sequence`\n",
    "- `__setitem__`\n",
    "- `__delitem__`\n",
    "- `insert`\n",
    "- `append`\n",
    "- `reverse`\n",
    "- `extend`\n",
    "- `pop`\n",
    "- `remove`\n",
    "- `__iadd__`\n",
    "\n",
    "\n",
    "## 2.2 列表推导和生成器表达式\n",
    "通常的原则是，只用列表推导来创建新的列表，并且尽量保持简短。超过了两行的话，就要考虑是不是应该用for循环重写。"
   ]
  },
  {
   "cell_type": "code",
   "execution_count": 4,
   "metadata": {},
   "outputs": [
    {
     "name": "stdout",
     "output_type": "stream",
     "text": [
      "[162, 163, 165, 8364, 164]\n"
     ]
    }
   ],
   "source": [
    "symbols = '$¢£¥€¤'\n",
    "beyond_ascii = [ord(s) for s in symbols if ord(s) > 127]\n",
    "print(beyond_ascii)"
   ]
  },
  {
   "cell_type": "code",
   "execution_count": 5,
   "metadata": {},
   "outputs": [
    {
     "name": "stdout",
     "output_type": "stream",
     "text": [
      "[162, 163, 165, 8364, 164]\n"
     ]
    }
   ],
   "source": [
    "# or using map/filter\n",
    "beyond_ascii = list(filter(lambda c : c > 127, map(ord, symbols)))\n",
    "print(beyond_ascii)"
   ]
  },
  {
   "cell_type": "markdown",
   "metadata": {},
   "source": [
    "Comparison of speed can be found in *listcomp_speed.py*\n",
    "\n",
    "### 2.2.3 cartesian product"
   ]
  },
  {
   "cell_type": "code",
   "execution_count": 6,
   "metadata": {},
   "outputs": [
    {
     "name": "stdout",
     "output_type": "stream",
     "text": [
      "[('black', 'S'), ('black', 'M'), ('black', 'L'), ('white', 'S'), ('white', 'M'), ('white', 'L')]\n"
     ]
    }
   ],
   "source": [
    "colors = ['black', 'white'] \n",
    "sizes = ['S', 'M', 'L'] \n",
    "tshirts = [(color, size) for color in colors for size in sizes]\n",
    "print(tshirts)"
   ]
  },
  {
   "cell_type": "markdown",
   "metadata": {},
   "source": [
    "### 2.2.4 生成器表达式\n",
    "生成器表达式是懒惰的，只有在需要的时候才会生成值,这样有助于节省内存。生成器表达式的语法和列表推导很像，只不过把中括号换成了圆括号。"
   ]
  },
  {
   "cell_type": "code",
   "execution_count": 7,
   "metadata": {},
   "outputs": [
    {
     "data": {
      "text/plain": [
       "(36, 162, 163, 165, 8364, 164)"
      ]
     },
     "execution_count": 7,
     "metadata": {},
     "output_type": "execute_result"
    }
   ],
   "source": [
    "tuple(ord(symbol) for symbol in symbols)"
   ]
  },
  {
   "cell_type": "code",
   "execution_count": 8,
   "metadata": {},
   "outputs": [
    {
     "name": "stdout",
     "output_type": "stream",
     "text": [
      "array('I', [36, 162, 163, 165, 8364, 164])\n"
     ]
    }
   ],
   "source": [
    "import array\n",
    "arr = array.array('I', (ord(symbol) for symbol in symbols))\n",
    "print(arr)\n"
   ]
  },
  {
   "cell_type": "markdown",
   "metadata": {},
   "source": [
    "1. 如果生成器表达式是一个函数调用过程中的唯一参数，那么不需要额外的括号\n",
    "2. array的构造方法需要两个参数，第一个指定了数组中数字的储存方式，第二个是可迭代对象"
   ]
  },
  {
   "cell_type": "code",
   "execution_count": 9,
   "metadata": {},
   "outputs": [
    {
     "name": "stdout",
     "output_type": "stream",
     "text": [
      "black S\n",
      "black M\n",
      "black L\n",
      "white S\n",
      "white M\n",
      "white L\n"
     ]
    }
   ],
   "source": [
    "colors = ['black','white']\n",
    "sizes = ['S','M','L']\n",
    "for tshirt in ('%s %s' % (c,s) for c in colors for s in sizes):\n",
    "    print(tshirt)"
   ]
  },
  {
   "cell_type": "markdown",
   "metadata": {},
   "source": [
    "## 2.3 元组不仅仅是不可变的列表\n",
    "除了用作不可变的列表，它还可以用于没有字段名的记录\n",
    "\n",
    "### 2.3.1 元组和记录\n",
    "\n",
    "如果只把元组理解为不可变的列表，那其他信息——它所含有的元素的总数和它们的位置——似乎就变得可有可无。但是如果把元组当作一些字段的集合，那么**数量和位置信息**就变得非常重要了。\n",
    "\n",
    "### 2.3.2 元组拆包\n",
    "可以参考Python Techniques系列的笔记\n"
   ]
  },
  {
   "cell_type": "code",
   "execution_count": 10,
   "metadata": {},
   "outputs": [
    {
     "name": "stdout",
     "output_type": "stream",
     "text": [
      "(2, 4)\n"
     ]
    }
   ],
   "source": [
    "# * unpacks an iterable\n",
    "t = (20,8)\n",
    "print(divmod(*t))"
   ]
  },
  {
   "cell_type": "markdown",
   "metadata": {},
   "source": [
    "parallel assignment technique"
   ]
  },
  {
   "cell_type": "code",
   "execution_count": 11,
   "metadata": {},
   "outputs": [
    {
     "name": "stdout",
     "output_type": "stream",
     "text": [
      "0 [1, 2] 3 4\n"
     ]
    }
   ],
   "source": [
    "a, *body, c, d = range(5)\n",
    "print(a,body,c,d)"
   ]
  },
  {
   "cell_type": "markdown",
   "metadata": {},
   "source": [
    "### 2.3.3 嵌套元组拆包\n",
    "接受表达式的元组可以是嵌套式的，例如(a, b, (c, d))。"
   ]
  },
  {
   "cell_type": "code",
   "execution_count": 12,
   "metadata": {},
   "outputs": [
    {
     "name": "stdout",
     "output_type": "stream",
     "text": [
      "                |   lat.    |   long.  \n",
      "Mexico City     |   19.4333 |  -99.1333\n",
      "New York-Newark |   40.8086 |  -74.0204\n",
      "Sao Paulo       |  -23.5478 |  -46.6358\n"
     ]
    }
   ],
   "source": [
    "# metro_lat_long.py\n",
    "metro_areas = [\n",
    "    ('Tokyo', 'JP', 36.933, (35.689722, 139.691667)),   # <1>\n",
    "    ('Delhi NCR', 'IN', 21.935, (28.613889, 77.208889)),\n",
    "    ('Mexico City', 'MX', 20.142, (19.433333, -99.133333)),\n",
    "    ('New York-Newark', 'US', 20.104, (40.808611, -74.020386)),\n",
    "    ('Sao Paulo', 'BR', 19.649, (-23.547778, -46.635833)),\n",
    "]\n",
    "\n",
    "print('{:15} | {:^9} | {:^9}'.format('', 'lat.', 'long.'))\n",
    "fmt = '{:15} | {:9.4f} | {:9.4f}'\n",
    "for name, cc, pop, (latitude, longitude) in metro_areas:  # <2>\n",
    "    if longitude <= 0:  # <3>\n",
    "        print(fmt.format(name, latitude, longitude))"
   ]
  },
  {
   "cell_type": "markdown",
   "metadata": {},
   "source": [
    "### 2.3.4 具名元组(namedtuple)\n",
    "collections.namedtuple是一个**工厂函数**，它可以用来构建一个带字段名的元组和一个有名字的类——这个带名字的类对调试程序有很大帮助。\n",
    "\n",
    "*拓展:工厂函数*\n",
    "\n",
    "In programming, a factory function is a concept used primarily in object-oriented programming. It refers to a function that is designed to create and return new instances of objects. Unlike constructors that are associated with a specific class and are used to create instances of that class, factory functions can be more flexible. They can create objects from multiple classes based on the parameters passed to them or based on specific conditions.\n",
    "\n",
    "Factory functions are useful for several reasons:\n",
    "1. **Abstraction and Encapsulation**: They can hide the complexity of creating instances of complex objects, making the code that uses these objects simpler and cleaner.\n",
    "2. **Flexibility**: Since factory functions are not tied to specific classes, they can return instances of different classes. This makes it easier to introduce new types of objects without changing the code that uses the factory function.\n",
    "3. **Customization**: Parameters passed to a factory function can dictate the customization of the created object, allowing for a more dynamic object creation process.\n",
    "\n",
    "Here's a simple example in JavaScript to illustrate a factory function:\n",
    "\n",
    "```javascript\n",
    "function carFactory(model, year) {\n",
    "    return {\n",
    "        model: model,\n",
    "        year: year,\n",
    "        displayInfo: function() {\n",
    "            console.log(`Model: ${this.model}, Year: ${this.year}`);\n",
    "        }\n",
    "    };\n",
    "}\n",
    "\n",
    "const car1 = carFactory('Toyota', 2020);\n",
    "car1.displayInfo(); // Output: Model: Toyota, Year: 2020\n",
    "```\n",
    "\n",
    "In this example, `carFactory` is a factory function that creates and returns a new car object each time it is called. The created car object includes properties for `model` and `year`, as well as a method `displayInfo` to display the car's information. This approach allows for the creation of car objects with different properties without the need for a specific class for each car.\n",
    "\n",
    "书本注:\n",
    "用`namedtuple`构建的类的实例所消耗的内存和元组一样，因为字段名都被存在对应的类内。这个实例比普通的对象实例比起来要小一点，因为python不会用`__dict__`来存放这些实例的属性"
   ]
  },
  {
   "cell_type": "code",
   "execution_count": 13,
   "metadata": {},
   "outputs": [],
   "source": [
    "from collections import namedtuple\n",
    "City = namedtuple('City','name country population coordinates')\n",
    "tokyo = City('Tokyo', 'JP', 36.933, (35.689722, 139.691667))"
   ]
  },
  {
   "cell_type": "code",
   "execution_count": 14,
   "metadata": {},
   "outputs": [
    {
     "name": "stdout",
     "output_type": "stream",
     "text": [
      "City(name='Tokyo', country='JP', population=36.933, coordinates=(35.689722, 139.691667))\n",
      "Tokyo\n",
      "36.933\n"
     ]
    }
   ],
   "source": [
    "print(tokyo)\n",
    "print(tokyo.name)\n",
    "print(tokyo.population)"
   ]
  },
  {
   "cell_type": "markdown",
   "metadata": {},
   "source": [
    "*code comment:*\n",
    "1. 创建`namedtuple`需要两个参数，一个是类名，另一个是类的各个字段的名字。后者可以是由数个**字符串组成的可迭代对象**，或者是由**空格分隔开的字段名组成的字符串**。\n",
    "2. 存放在对应字段里的数据要以一串参数的形式传入到构造函数中（元组的构造函数却只接受单一的可迭代对象）\n",
    "3. ...\n",
    "\n",
    "具名元组还有一些自己专有的属性:\n",
    "- `_fields` class attribute\n",
    "- `_make(iterable)` class method\n",
    "- `_asdict()` instance method"
   ]
  },
  {
   "cell_type": "code",
   "execution_count": 15,
   "metadata": {},
   "outputs": [
    {
     "data": {
      "text/plain": [
       "('name', 'country', 'population', 'coordinates')"
      ]
     },
     "execution_count": 15,
     "metadata": {},
     "output_type": "execute_result"
    }
   ],
   "source": [
    "City._fields"
   ]
  },
  {
   "cell_type": "code",
   "execution_count": 16,
   "metadata": {},
   "outputs": [
    {
     "name": "stdout",
     "output_type": "stream",
     "text": [
      "{'name': 'Delhi NCR', 'country': 'IN', 'population': 21.935, 'coordinates': LatLong(lat=28.613889, long=77.208889)}\n"
     ]
    }
   ],
   "source": [
    "LatLong = namedtuple('LatLong', 'lat long') \n",
    "delhi_data = ('Delhi NCR', 'IN', 21.935, LatLong(28.613889, 77.208889)) \n",
    "delhi = City._make(delhi_data)   \n",
    "print(delhi._asdict()) "
   ]
  },
  {
   "cell_type": "code",
   "execution_count": 17,
   "metadata": {},
   "outputs": [
    {
     "name": "stdout",
     "output_type": "stream",
     "text": [
      "name: Delhi NCR\n",
      "country: IN\n",
      "population: 21.935\n",
      "coordinates: LatLong(lat=28.613889, long=77.208889)\n"
     ]
    }
   ],
   "source": [
    "for key, value in delhi._asdict().items(): \n",
    "    print(key + ':', value) "
   ]
  },
  {
   "cell_type": "markdown",
   "metadata": {},
   "source": [
    "*code comment:*\n",
    "1. `_fields`属性是一个包含这个类所有字段名称的元组。\n",
    "2. 用`_make()`通过接受一个可迭代对象来生成这个类的一个实例，它的作用跟`City(*delhi_data)`是一样的。\n",
    "3. `_asdict()`把具名元组以`collections.OrderedDict`的形式返回，我们可以利用它来把元组里的信息清晰的呈现出来。"
   ]
  }
 ],
 "metadata": {
  "kernelspec": {
   "display_name": "base",
   "language": "python",
   "name": "python3"
  },
  "language_info": {
   "codemirror_mode": {
    "name": "ipython",
    "version": 3
   },
   "file_extension": ".py",
   "mimetype": "text/x-python",
   "name": "python",
   "nbconvert_exporter": "python",
   "pygments_lexer": "ipython3",
   "version": "3.10.9"
  }
 },
 "nbformat": 4,
 "nbformat_minor": 2
}
