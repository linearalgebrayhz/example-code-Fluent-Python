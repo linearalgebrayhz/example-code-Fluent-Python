{
 "cells": [
  {
   "cell_type": "markdown",
   "metadata": {},
   "source": [
    "# Ch3 字典和集合\n",
    "本质是散列表\n",
    "\n",
    "## 3.1 泛映射类型\n",
    "\n",
    "> collections.abc 模块中有Mapping 和 MutableMapping 这两个抽象基类，它们的作用是为字典和集合dict和其他类似的类型定义形式接口\n",
    "\n",
    "继承树：\n",
    "\n",
    "`Container` class\n",
    "- `__contains__`\n",
    "  \n",
    "`Iterable` class\n",
    "- `__iter__`\n",
    "\n",
    "`Sized` class\n",
    "- `__len__`\n",
    "\n",
    "`Mapping` class extends `Container`, `Iterable`, `Sized`\n",
    "- `__getitem__`\n",
    "- `___contains__`\n",
    "- `__eq__`\n",
    "- `__ne__`\n",
    "- `get`\n",
    "- `keys`\n",
    "- `items`\n",
    "- `values`\n",
    "\n",
    "`MutableMapping` class extends `Mapping`\n",
    "- `__setitem__`\n",
    "- `__delitem__`\n",
    "- `pop`\n",
    "- `popitem`\n",
    "- `clear`\n",
    "- `update`\n",
    "- `setdefault`\n",
    "\n",
    "> 然而，非抽象映射类型一般不会直接继承这些抽象基类，它们会直接对`dict`或是`collections.User.Dict`进行扩展。这些抽象基类的主要作用是作为形式化的文档，它们定义了构建一个映射类型所需要的最基本的接口。\n"
   ]
  },
  {
   "cell_type": "code",
   "execution_count": 1,
   "metadata": {},
   "outputs": [
    {
     "data": {
      "text/plain": [
       "True"
      ]
     },
     "execution_count": 1,
     "metadata": {},
     "output_type": "execute_result"
    }
   ],
   "source": [
    "import collections.abc as abc\n",
    "\n",
    "my_dict = {}\n",
    "isinstance(my_dict, abc.Mapping)\n",
    "#这里用isinstance而不是type来检查某个参数是否为dict类型，因为这个参数有可能不是dict，而是一个比较另类的映射类型。"
   ]
  }
 ],
 "metadata": {
  "kernelspec": {
   "display_name": "base",
   "language": "python",
   "name": "python3"
  },
  "language_info": {
   "codemirror_mode": {
    "name": "ipython",
    "version": 3
   },
   "file_extension": ".py",
   "mimetype": "text/x-python",
   "name": "python",
   "nbconvert_exporter": "python",
   "pygments_lexer": "ipython3",
   "version": "3.10.9"
  }
 },
 "nbformat": 4,
 "nbformat_minor": 2
}
