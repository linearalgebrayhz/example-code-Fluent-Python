{
 "cells": [
  {
   "cell_type": "markdown",
   "metadata": {},
   "source": [
    "# Ch3 字典和集合\n",
    "本质是散列表\n",
    "\n",
    "## 3.1 泛映射类型\n",
    "\n",
    "> collections.abc 模块中有Mapping 和 MutableMapping 这两个抽象基类，它们的作用是为字典和集合dict和其他类似的类型定义形式接口\n",
    "\n",
    "继承树：\n",
    "\n",
    "`Container` class\n",
    "- `__contains__`\n",
    "  \n",
    "`Iterable` class\n",
    "- `__iter__`\n",
    "\n",
    "`Sized` class\n",
    "- `__len__`\n",
    "\n",
    "`Mapping` class extends `Container`, `Iterable`, `Sized`\n",
    "- `__getitem__`\n",
    "- `___contains__`\n",
    "- `__eq__`\n",
    "- `__ne__`\n",
    "- `get`\n",
    "- `keys`\n",
    "- `items`\n",
    "- `values`\n",
    "\n",
    "`MutableMapping` class extends `Mapping`\n",
    "- `__setitem__`\n",
    "- `__delitem__`\n",
    "- `pop`\n",
    "- `popitem`\n",
    "- `clear`\n",
    "- `update`\n",
    "- `setdefault`\n",
    "\n",
    "> 然而，非抽象映射类型一般不会直接继承这些抽象基类，它们会直接对`dict`或是`collections.User.Dict`进行扩展。这些抽象基类的主要作用是作为形式化的文档，它们定义了构建一个映射类型所需要的最基本的接口。\n"
   ]
  },
  {
   "cell_type": "code",
   "execution_count": 1,
   "metadata": {},
   "outputs": [
    {
     "data": {
      "text/plain": [
       "True"
      ]
     },
     "execution_count": 1,
     "metadata": {},
     "output_type": "execute_result"
    }
   ],
   "source": [
    "import collections.abc as abc\n",
    "\n",
    "my_dict = {}\n",
    "isinstance(my_dict, abc.Mapping)\n",
    "#这里用isinstance而不是type来检查某个参数是否为dict类型，因为这个参数有可能不是dict，而是一个比较另类的映射类型。"
   ]
  },
  {
   "cell_type": "markdown",
   "metadata": {},
   "source": [
    "What are hashable objects?\n",
    "- An object is hashable if it has a hash value which never changes during its lifetime (it needs a `__hash__()` method), and can be compared to other objects (it needs an `__eq__()` method). Hashable objects which **compare equal must have the same hash value**.\n",
    "\n",
    "str, bytes, numeric types are hashable. Tuple is hashable **if all its elements are hashable**.\n",
    "\n",
    "Normally, all user defined objects are hashable because their hash value is their id(). If an object implements a custom `__eq__()` that takes into account its internal state, it may be hashable only if all its attributes are immutable.\n",
    "\n",
    "Here are different ways to construct a dictionary:"
   ]
  },
  {
   "cell_type": "code",
   "execution_count": 2,
   "metadata": {},
   "outputs": [
    {
     "data": {
      "text/plain": [
       "True"
      ]
     },
     "execution_count": 2,
     "metadata": {},
     "output_type": "execute_result"
    }
   ],
   "source": [
    "a = dict(one = 1, two = 2, three = 3)\n",
    "b = {'one':1,'two':2,\"three\":3}\n",
    "c = dict(zip(['one', 'two', 'three'], [1, 2, 3]))\n",
    "d = dict([('two', 2), ('one', 1), ('three', 3)])\n",
    "e = dict({'three': 3, 'one': 1, 'two': 2}) \n",
    "a == b == c == d == e"
   ]
  },
  {
   "cell_type": "markdown",
   "metadata": {},
   "source": [
    "## 3.2 字典推导\n"
   ]
  },
  {
   "cell_type": "code",
   "execution_count": 4,
   "metadata": {},
   "outputs": [
    {
     "name": "stdout",
     "output_type": "stream",
     "text": [
      "d1: dict_keys([86, 91, 1, 62, 55, 92, 880, 234, 7, 81])\n",
      "d2: dict_keys([1, 7, 55, 62, 81, 86, 91, 92, 234, 880])\n",
      "d3: dict_keys([880, 55, 86, 91, 62, 81, 234, 92, 7, 1])\n"
     ]
    }
   ],
   "source": [
    "# dialcodes.py\n",
    "# BEGIN DIALCODES\n",
    "# dial codes of the top 10 most populous countries\n",
    "DIAL_CODES = [\n",
    "        (86, 'China'),\n",
    "        (91, 'India'),\n",
    "        (1, 'United States'),\n",
    "        (62, 'Indonesia'),\n",
    "        (55, 'Brazil'),\n",
    "        (92, 'Pakistan'),\n",
    "        (880, 'Bangladesh'),\n",
    "        (234, 'Nigeria'),\n",
    "        (7, 'Russia'),\n",
    "        (81, 'Japan'),\n",
    "    ]\n",
    "\n",
    "d1 = dict(DIAL_CODES)  # <1>\n",
    "print('d1:', d1.keys())\n",
    "d2 = dict(sorted(DIAL_CODES))  # <2>\n",
    "print('d2:', d2.keys())\n",
    "d3 = dict(sorted(DIAL_CODES, key=lambda x:x[1]))  # <3>\n",
    "print('d3:', d3.keys())\n",
    "assert d1 == d2 and d2 == d3  # <4>\n",
    "# END DIALCODES\n"
   ]
  },
  {
   "cell_type": "markdown",
   "metadata": {},
   "source": [
    "## 3.3 常见的映射方法\n",
    "对于`dict` `defaultdict` `OrderedDict`的常见方法举例\n",
    "\n",
    "> 后面两个数据类型是`dict`的变种，位于`collections`模块内\n",
    "\n",
    "`update(m, [**kargs])` duck typing, `m` can be a mapping or an iterable of key-value pairs. The method will first check if `m` has a `keys()` method, if not, it will iterate over `m` assuming it is an iterable of key-value pairs.\n",
    "\n",
    "`d[k]`和`d.get(k)`的区别在于：如果键`k`不在字典中，`d[k]`会报错，而`d.get(k,default)`会返回defualt值。"
   ]
  },
  {
   "cell_type": "code",
   "execution_count": null,
   "metadata": {},
   "outputs": [],
   "source": [
    "# index0.py with slight modification\n",
    "\"\"\"Build an index mapping word -> list of occurrences\"\"\"\n",
    "\n",
    "import sys\n",
    "import re\n",
    "\n",
    "WORD_RE = re.compile(r'\\w+')\n",
    "\n",
    "index = {}\n",
    "with open(sys.argv[1], encoding='utf-8') as fp:\n",
    "    for line_no, line in enumerate(fp, 1):\n",
    "        for match in WORD_RE.finditer(line):\n",
    "            word = match.group()\n",
    "            column_no = match.start()+1\n",
    "            location = (line_no, column_no)\n",
    "            # this is ugly; coded like this to make a point\n",
    "            occurrences = index.get(word, [])  # <1>\n",
    "            occurrences.append(location)       # <2>\n",
    "            index[word] = occurrences          # <3>\n",
    "\n",
    "# print in alphabetical order\n",
    "for word in sorted(index, key=str.upper):  # <4> \n",
    "    print(word, index[word])\n",
    "    \n",
    "# <4> 没有调用str.upper 而是把方法的引用传递给sorted\n",
    "#     以便在排序时将单词规范为统一形式"
   ]
  },
  {
   "cell_type": "code",
   "execution_count": null,
   "metadata": {},
   "outputs": [],
   "source": [
    "import sys\n",
    "import re\n",
    "\n",
    "WORD_RE = re.compile(r'\\w+')\n",
    "\n",
    "index = {}\n",
    "with open(sys.argv[1], encoding='utf-8') as fp:\n",
    "    for line_no, line in enumerate(fp, 1):\n",
    "        for match in WORD_RE.finditer(line):\n",
    "            word = match.group()\n",
    "            column_no = match.start()+1\n",
    "            location = (line_no, column_no)\n",
    "            index.setdefault(word, []).append(location)  # <1> only one line, one query on key\n",
    "\n",
    "# print in alphabetical order\n",
    "for word in sorted(index, key=str.upper):\n",
    "    print(word, index[word])"
   ]
  },
  {
   "cell_type": "markdown",
   "metadata": {},
   "source": [
    "## 3.4 映射的弹性键查询（处理找不到键的情况）\n",
    "- 通过`defaultdict`来实现\n",
    "- 自定义`dict`的子类，实现`__missing__`方法\n",
    "\n",
    "### 3.4.1 `defaultdict`: 处理找不到键的情况\n",
    "\n",
    "> 具体而言，在实例化一个`defaultdict`的时候，需要给构造方法提供一个可调用对象，这个可调用对象会在`__getitem__`碰到找不到的键的时候被调用，让`__getitem__`返回某种默认值。\n",
    "\n",
    "比如，我们新建了这样一个字典：`dd = defaultdict(list)`，如果键`'new-key'`在`dd`中还不存在的话，表达式`dd['new-key']`会按照以下的步骤来行事。\n",
    "\n",
    "1. 调用list() 建立一个新列表\n",
    "2. 把新列表作为值，`'new-key'`作为键，放到`defaultdict`中\n",
    "3. 返回列表的引用(?)\n",
    "\n",
    "> 而这个用来生成默认值的可调用对象存放在名`default_factory`的实例属性里。"
   ]
  },
  {
   "cell_type": "code",
   "execution_count": null,
   "metadata": {},
   "outputs": [],
   "source": [
    "import sys\n",
    "import re\n",
    "import collections\n",
    "\n",
    "WORD_RE = re.compile(r'\\w+')\n",
    "\n",
    "index = collections.defaultdict(list)     # <1> list method as default factory\n",
    "with open(sys.argv[1], encoding='utf-8') as fp:\n",
    "    for line_no, line in enumerate(fp, 1):\n",
    "        for match in WORD_RE.finditer(line):\n",
    "            word = match.group()\n",
    "            column_no = match.start()+1\n",
    "            location = (line_no, column_no)\n",
    "            index[word].append(location)  # <2> can always success\n",
    "\n",
    "# print in alphabetical order\n",
    "for word in sorted(index, key=str.upper):\n",
    "    print(word, index[word])"
   ]
  },
  {
   "cell_type": "markdown",
   "metadata": {},
   "source": [
    "> 如果在创建`defaultdict` 的时候没有指定`default_factory`，查询不存在的键会触发`KeyError`。\n",
    "\n",
    "default_factory 只会在`__getitem__`里被调用，而在其他的方法里不会被调用。比如，当key不存在时，`dd.get(k)`会返回`None`，而不会调用`default_factory`。\n",
    "\n",
    "这一切的背后其实都靠的是`__missing__`方法。\n",
    "\n",
    "### 3.4.2 `__missing__`方法\n",
    "\n",
    "\n",
    "## 3.7 不可变的映射类型 `types.MappingProxyType`\n",
    "> 如果给这个类一个映射，它会返回一个只读的映射视图。虽然是个只读视图，但是它是动态的。也就是说，如果对原映射做出了改动，我们通过这个视图可以观察到，但是无法通过这个视图对原映射做出改动。"
   ]
  },
  {
   "cell_type": "code",
   "execution_count": 1,
   "metadata": {},
   "outputs": [
    {
     "data": {
      "text/plain": [
       "mappingproxy({1: 'A'})"
      ]
     },
     "execution_count": 1,
     "metadata": {},
     "output_type": "execute_result"
    }
   ],
   "source": [
    "from types import MappingProxyType\n",
    "d = {1:\"A\"}\n",
    "d_proxy = MappingProxyType(d)\n",
    "d_proxy"
   ]
  },
  {
   "cell_type": "code",
   "execution_count": 2,
   "metadata": {},
   "outputs": [
    {
     "data": {
      "text/plain": [
       "'A'"
      ]
     },
     "execution_count": 2,
     "metadata": {},
     "output_type": "execute_result"
    }
   ],
   "source": [
    "d_proxy[1]"
   ]
  },
  {
   "cell_type": "code",
   "execution_count": 3,
   "metadata": {},
   "outputs": [
    {
     "ename": "TypeError",
     "evalue": "'mappingproxy' object does not support item assignment",
     "output_type": "error",
     "traceback": [
      "\u001b[1;31m---------------------------------------------------------------------------\u001b[0m",
      "\u001b[1;31mTypeError\u001b[0m                                 Traceback (most recent call last)",
      "Cell \u001b[1;32mIn[3], line 1\u001b[0m\n\u001b[1;32m----> 1\u001b[0m \u001b[43md_proxy\u001b[49m\u001b[43m[\u001b[49m\u001b[38;5;241;43m2\u001b[39;49m\u001b[43m]\u001b[49m \u001b[38;5;241m=\u001b[39m \u001b[38;5;124m'\u001b[39m\u001b[38;5;124mx\u001b[39m\u001b[38;5;124m'\u001b[39m\n",
      "\u001b[1;31mTypeError\u001b[0m: 'mappingproxy' object does not support item assignment"
     ]
    }
   ],
   "source": [
    "d_proxy[2] = 'x'"
   ]
  },
  {
   "cell_type": "code",
   "execution_count": 4,
   "metadata": {},
   "outputs": [
    {
     "data": {
      "text/plain": [
       "'B'"
      ]
     },
     "execution_count": 4,
     "metadata": {},
     "output_type": "execute_result"
    }
   ],
   "source": [
    "d[2] = 'B' \n",
    "d_proxy[2]"
   ]
  },
  {
   "cell_type": "markdown",
   "metadata": {},
   "source": [
    "## 3.8 集合论\n",
    "\n",
    "### 3.8.1 集合字面量\n",
    "\n",
    "空集必须要用`set()`来表示，因为`{}`表示的是空字典。当时1330还错过\n",
    "\n",
    "> Python特性\n",
    "> 像{1, 2, 3} 这种字面量句法相比于构造方法（set([1, 2, 3])）要更快且更易读。后者的速度要慢一些，因为Python必须先从set这个名字来查询构造方法，然后新建一个列表，最后再把这个列表传入到构造方法里。但是如果是像{1, 2, 3}这样的字面量，Python会利用一个专门的叫作BUILD_SET的字节码来创建集合。\n",
    "\n",
    "`frozenset`没有字面量句法，只能通过构造方法来创建。\n",
    "\n",
    "### 3.8.2 集合推导\n",
    "和列表推导式类似，只是用`{}`来代替`[]`。\n",
    "\n",
    "### 3.8.3 集合的操作\n",
    "\n",
    "有一些之前不太熟悉的就地修改操作：\n",
    "- `s.update(t)` or `s |= t` union 就地修改\n",
    "- `s.intersection_update(t)` or `s &= t` intersection 就地修改\n",
    "- `s.difference_update(t)` or `s -= t` difference 就地修改\n",
    "- `s.symmetric_difference_update(t)` or `s ^= t` symmetric difference 就地修改\n",
    "\n",
    "这里传入的参数可以是任何可迭代对象，包括集合，列表，生成器等(一个有趣的特性)\n",
    "\n",
    "返回值为bool的一些运算符：\n",
    "- `s.isdisjoint(t)` 如果两个集合的交集为空，返回True\n",
    "- `s.issubset(t)` 如果s中的每一个元素都在t中，返回True\n",
    "- `s.issuperset(t)` 如果t中的每一个元素都在s中，返回True\n",
    "\n",
    "其他实用性方法：\n",
    "- `s.add(e)` 添加元素\n",
    "- `s.clear()` 清空集合\n",
    "- `s.remove(e)` 删除元素，如果不存在会报错\n",
    "- `s.discard(e)` 删除元素，如果不存在不会报错\n",
    "- `s.copy()` 返回一个新的集合（浅拷贝）\n",
    "- `s.pop()` 随机删除一个元素并返回\n",
    "\n",
    "## 3.9 dict和set的背后\n",
    "\n",
    "### 3.9.1 效率实验\n",
    "> 如果在你的程序里有任何的磁盘输入/输出，那么不管查询有多少个元素的字典或集合，所耗费的时间都能忽略不计（前提是字典或者集合不超过内存大小）\n",
    "\n",
    "### 3.9.2 字典中的散列表\n",
    "\n",
    "> 散列表其实是一个稀疏数组（总是有空白元素的数组称为稀疏数组），散列表的单元叫作表元(bucket)。\n",
    "\n"
   ]
  },
  {
   "cell_type": "code",
   "execution_count": null,
   "metadata": {},
   "outputs": [],
   "source": []
  }
 ],
 "metadata": {
  "kernelspec": {
   "display_name": "base",
   "language": "python",
   "name": "python3"
  },
  "language_info": {
   "codemirror_mode": {
    "name": "ipython",
    "version": 3
   },
   "file_extension": ".py",
   "mimetype": "text/x-python",
   "name": "python",
   "nbconvert_exporter": "python",
   "pygments_lexer": "ipython3",
   "version": "3.10.9"
  }
 },
 "nbformat": 4,
 "nbformat_minor": 2
}
